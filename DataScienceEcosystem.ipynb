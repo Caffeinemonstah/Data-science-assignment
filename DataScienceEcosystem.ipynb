{
 "cells": [
  {
   "cell_type": "markdown",
   "id": "54fde51c-98b6-45d8-9a30-26b29c68b9ba",
   "metadata": {},
   "source": [
    "# Data Science tools and ecosystem"
   ]
  },
  {
   "cell_type": "markdown",
   "id": "f6df10c4-2fb4-4f96-8b56-2db9e53702c0",
   "metadata": {},
   "source": [
    "Some of the popular languages data scientists use are:"
   ]
  },
  {
   "cell_type": "markdown",
   "id": "c37b360c-f70f-4769-b643-02dd9430aeaf",
   "metadata": {},
   "source": [
    "**Objectives:**\n",
    "- List popular languages for Data science.\n",
    "- Commonly used libraries by Data scientists.\n",
    "- A simple arithmetic expression to multiply then add integers.\n",
    "- And many more."
   ]
  },
  {
   "cell_type": "markdown",
   "id": "5dd2b883-13d0-4113-91f8-853efe22510c",
   "metadata": {},
   "source": [
    "In this notebook, Data science tools and eco systems are summarized"
   ]
  },
  {
   "cell_type": "markdown",
   "id": "5e67d3d0-d6d4-4ff6-802d-0d21ce7357cf",
   "metadata": {},
   "source": [
    "\n",
    "1. R\n",
    "2. Python\n",
    "3. Scala\n",
    "4. Julia"
   ]
  },
  {
   "cell_type": "markdown",
   "id": "f95d38df-5038-48e3-9cfc-7a3189f35c59",
   "metadata": {},
   "source": [
    "Some of the commonly used Libraries by data scientists are:\n",
    "1. NumPy\n",
    "2. Pandas\n",
    "3. TensorFlow\n"
   ]
  },
  {
   "cell_type": "markdown",
   "id": "4caf2b92-7168-4991-84d2-036de363310c",
   "metadata": {},
   "source": [
    "|Data science tools|\n",
    "|------------------|\n",
    "|Rstudio           |\n",
    "|Watson Studio     |\n",
    "|Jupyter notebook  |"
   ]
  },
  {
   "cell_type": "markdown",
   "id": "94ebf8a2-feb4-43e9-ba76-7d7853d9d79e",
   "metadata": {},
   "source": [
    "# Below are a few examples of arithmetic expressions in Python"
   ]
  },
  {
   "cell_type": "markdown",
   "id": "9d59c55d-398f-4801-a383-8fbf8b0489bf",
   "metadata": {},
   "source": [
    "This a simple arithmetic expression to mutiply then add integers"
   ]
  },
  {
   "cell_type": "code",
   "execution_count": 23,
   "id": "adc4541f-bccb-4442-a317-cdb60b8e44ec",
   "metadata": {},
   "outputs": [
    {
     "data": {
      "text/plain": [
       "17"
      ]
     },
     "execution_count": 23,
     "metadata": {},
     "output_type": "execute_result"
    }
   ],
   "source": [
    "(3*4)+5"
   ]
  },
  {
   "cell_type": "markdown",
   "id": "17eca592-50d0-47d2-806f-a52f5ea0004e",
   "metadata": {},
   "source": [
    "This will convert 200 minutes into hours by dividing by 60"
   ]
  },
  {
   "cell_type": "code",
   "execution_count": 57,
   "id": "2cd697c4-ba8c-4582-a0d7-33136d066f56",
   "metadata": {},
   "outputs": [
    {
     "name": "stdout",
     "output_type": "stream",
     "text": [
      "200 Minutes is equal to 3.3333333333333335 Hours.\n"
     ]
    }
   ],
   "source": [
    "Minutes = 200\n",
    "Hours = Minutes / 60 \n",
    "\n",
    "print(f\"{Minutes} Minutes is equal to {Hours} Hours.\")\n"
   ]
  },
  {
   "cell_type": "markdown",
   "id": "3abb9bd7-e0cc-4f7b-8e7f-c783c4424c9d",
   "metadata": {},
   "source": [
    "## Author\n",
    "PrithviRaj CSB"
   ]
  },
  {
   "cell_type": "code",
   "execution_count": null,
   "id": "46fc4fab-e6a9-459c-959d-948aec8e390e",
   "metadata": {},
   "outputs": [],
   "source": []
  }
 ],
 "metadata": {
  "kernelspec": {
   "display_name": "Python 3 (ipykernel)",
   "language": "python",
   "name": "python3"
  },
  "language_info": {
   "codemirror_mode": {
    "name": "ipython",
    "version": 3
   },
   "file_extension": ".py",
   "mimetype": "text/x-python",
   "name": "python",
   "nbconvert_exporter": "python",
   "pygments_lexer": "ipython3",
   "version": "3.12.4"
  }
 },
 "nbformat": 4,
 "nbformat_minor": 5
}
